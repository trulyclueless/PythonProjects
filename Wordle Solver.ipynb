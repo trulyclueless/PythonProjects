{
 "cells": [
  {
   "cell_type": "code",
   "execution_count": null,
   "id": "2cf23253",
   "metadata": {
    "scrolled": true
   },
   "outputs": [],
   "source": [
    "import re\n",
    "words = open(\"C:/Users/vivid/Downloads/words_alpha.txt\",\"r\")\n",
    "content_list=content.split(\"\\n\")"
   ]
  },
  {
   "cell_type": "code",
   "execution_count": 451,
   "id": "34ccde12",
   "metadata": {},
   "outputs": [],
   "source": [
    "newlist=[]\n",
    "for x in range(len(content_list)):\n",
    "    if len(content_list[x]) == 5:\n",
    "        newlist.append(content_list[x])\n",
    "parklist=newlist.copy()\n",
    "activelist=[]"
   ]
  },
  {
   "cell_type": "code",
   "execution_count": 449,
   "id": "c52b19e6",
   "metadata": {},
   "outputs": [
    {
     "name": "stdout",
     "output_type": "stream",
     "text": [
      "Enter Eliminated Lettersc h o s f u i  d g r a n t\n",
      "Enter Confirmed Letters0 e 0 0 y\n",
      "Enter Letters in wrong position0 l 0 0 e\n",
      "['c', 'h', 'o', 's', 'f', 'u', 'i', 'd', 'g', 'r', 'a', 'n', 't']\n",
      "['0', 'e', '0', '0', 'y']\n",
      "['0', 'l', '0', '0', 'e']\n"
     ]
    }
   ],
   "source": [
    "eliminated = input(\"Enter Eliminated Letters\")\n",
    "confirmed = input(\"Enter Confirmed Letters\")\n",
    "position = input (\"Enter Letters in wrong position\")\n",
    "elist=eliminated.split()\n",
    "clist=confirmed.split()\n",
    "plist=position.split()\n",
    "print(elist)\n",
    "print(clist)\n",
    "print(plist)"
   ]
  },
  {
   "cell_type": "code",
   "execution_count": null,
   "id": "b5471547",
   "metadata": {},
   "outputs": [],
   "source": [
    "confirmed = input(\"Enter Confirmed Letters\")\n",
    "clist=confirmed.split()\n",
    "print(clist)"
   ]
  },
  {
   "cell_type": "code",
   "execution_count": null,
   "id": "0fe72010",
   "metadata": {},
   "outputs": [],
   "source": [
    "position = input (\"Enter Letters in wrong position\")\n",
    "plist=position.split()\n",
    "print(plist)"
   ]
  },
  {
   "cell_type": "code",
   "execution_count": 452,
   "id": "1ac2499e",
   "metadata": {},
   "outputs": [
    {
     "name": "stdout",
     "output_type": "stream",
     "text": [
      "13330\n",
      "15918\n",
      "11656\n",
      "13330\n",
      "8333\n",
      "11656\n",
      "5031\n",
      "8333\n",
      "4560\n",
      "5031\n",
      "3447\n",
      "4560\n",
      "1997\n",
      "3447\n",
      "1518\n",
      "1997\n",
      "1237\n",
      "1518\n",
      "713\n",
      "1237\n",
      "166\n",
      "713\n",
      "100\n",
      "166\n",
      "56\n",
      "100\n"
     ]
    }
   ],
   "source": [
    "for x in range(len(elist)):\n",
    "    activelist.clear()\n",
    "  \n",
    "    for y in range(len(parklist)):\n",
    "        if re.search(rf\"{elist[x]}\", parklist[y]):\n",
    "            pass\n",
    "        else:\n",
    "            activelist.append(parklist[y])\n",
    "    print(len(activelist))\n",
    "    print(len(parklist))\n",
    "    parklist=activelist.copy()\n",
    "    activelist.clear()"
   ]
  },
  {
   "cell_type": "code",
   "execution_count": 453,
   "id": "e1058e20",
   "metadata": {},
   "outputs": [
    {
     "name": "stdout",
     "output_type": "stream",
     "text": [
      "45\n",
      "56\n",
      "18\n",
      "45\n"
     ]
    }
   ],
   "source": [
    "for x in range(len(clist)):\n",
    "    if clist[x]==\"0\":\n",
    "        pass\n",
    "    else:\n",
    "        activelist.clear()\n",
    "        for y in range(len(parklist)):\n",
    "            if parklist[y].find(clist[x],x,x+1)== x:\n",
    "                activelist.append(parklist[y])\n",
    "            else:\n",
    "                pass\n",
    "        print(len(activelist))\n",
    "        print(len(parklist))\n",
    "        parklist=activelist.copy()\n",
    "        activelist.clear()"
   ]
  },
  {
   "cell_type": "code",
   "execution_count": 454,
   "id": "441741b0",
   "metadata": {},
   "outputs": [
    {
     "name": "stdout",
     "output_type": "stream",
     "text": [
      "8\n",
      "18\n",
      "8\n",
      "8\n"
     ]
    }
   ],
   "source": [
    "for x in range(len(plist)):\n",
    "    if plist[x]==\"0\":\n",
    "        pass\n",
    "    else:\n",
    "        activelist.clear()\n",
    "        for y in range(len(parklist)):\n",
    "            if parklist[y].find(plist[x],x,x+1)== x and parklist[y].find(plist[x])!= -1 :\n",
    "                pass\n",
    "            elif parklist[y].find(plist[x])!= -1:\n",
    "                activelist.append(parklist[y])\n",
    "        print(len(activelist))\n",
    "        print(len(parklist))\n",
    "        parklist=activelist.copy()\n",
    "        activelist.clear()"
   ]
  },
  {
   "cell_type": "code",
   "execution_count": 455,
   "id": "02383b93",
   "metadata": {},
   "outputs": [
    {
     "name": "stdout",
     "output_type": "stream",
     "text": [
      "['belly', 'yeply', 'jelly', 'kelly', 'kelpy', 'leeky', 'leppy', 'welly']\n"
     ]
    }
   ],
   "source": [
    "print(parklist)"
   ]
  }
 ],
 "metadata": {
  "kernelspec": {
   "display_name": "Python 3 (ipykernel)",
   "language": "python",
   "name": "python3"
  },
  "language_info": {
   "codemirror_mode": {
    "name": "ipython",
    "version": 3
   },
   "file_extension": ".py",
   "mimetype": "text/x-python",
   "name": "python",
   "nbconvert_exporter": "python",
   "pygments_lexer": "ipython3",
   "version": "3.9.7"
  }
 },
 "nbformat": 4,
 "nbformat_minor": 5
}
