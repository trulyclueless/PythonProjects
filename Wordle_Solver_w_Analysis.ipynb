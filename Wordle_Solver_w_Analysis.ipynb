{
 "cells": [
  {
   "cell_type": "code",
   "execution_count": 539,
   "id": "3a8ed7a1",
   "metadata": {
    "scrolled": true
   },
   "outputs": [],
   "source": [
    "import re\n",
    "import string\n",
    "words = open(\"C:/Users/vivid/Downloads/words_alpha.txt\",\"r\")\n",
    "content_list=content.split(\"\\n\")\n",
    "\n",
    "alphabet = string.ascii_lowercase\n",
    "alphalist=list(alphabet)\n",
    "arr = [[0 for i in range(2)] for j in range(len(alphalist))]\n",
    "for y in range(len(arr)):\n",
    "    arr[y][0] = alphalist[y]"
   ]
  },
  {
   "cell_type": "code",
   "execution_count": 542,
   "id": "15a4ff6c",
   "metadata": {},
   "outputs": [
    {
     "name": "stdout",
     "output_type": "stream",
     "text": [
      "Enter Eliminated Lettersu d i o r n s c h k b\n",
      "Enter Confirmed Lettersp l 0 0 0\n",
      "Enter Letters in wrong positiona a a 0 0\n"
     ]
    }
   ],
   "source": [
    "newlist=[]\n",
    "for x in range(len(content_list)):\n",
    "    if len(content_list[x]) == 5:\n",
    "        newlist.append(content_list[x])\n",
    "parklist=newlist.copy()\n",
    "activelist=[]\n",
    "eliminated = input(\"Enter Eliminated Letters\")\n",
    "confirmed = input(\"Enter Confirmed Letters\")\n",
    "position = input (\"Enter Letters in wrong position\")\n",
    "elist=eliminated.split()\n",
    "clist=confirmed.split()\n",
    "plist=position.split()"
   ]
  },
  {
   "cell_type": "code",
   "execution_count": 543,
   "id": "dae91a9d",
   "metadata": {},
   "outputs": [
    {
     "name": "stdout",
     "output_type": "stream",
     "text": [
      "['pleat']\n",
      "[['a', 1], ['b', 0], ['c', 0], ['d', 0], ['e', 1], ['f', 0], ['g', 0], ['h', 0], ['i', 0], ['j', 0], ['k', 0], ['l', 1], ['m', 0], ['n', 0], ['o', 0], ['p', 1], ['q', 0], ['r', 0], ['s', 0], ['t', 1], ['u', 0], ['v', 0], ['w', 0], ['x', 0], ['y', 0], ['z', 0]]\n"
     ]
    }
   ],
   "source": [
    "#Remove words with eliminated letters\n",
    "for x in range(len(elist)):\n",
    "    activelist.clear()\n",
    "  \n",
    "    for y in range(len(parklist)):\n",
    "        if re.search(rf\"{elist[x]}\", parklist[y]):\n",
    "            pass\n",
    "        else:\n",
    "            activelist.append(parklist[y])\n",
    "    parklist=activelist.copy()\n",
    "    activelist.clear()\n",
    "    \n",
    "#Retain words with confirmed letters\n",
    "for x in range(len(clist)):\n",
    "    if clist[x]==\"0\":\n",
    "        pass\n",
    "    else:\n",
    "        activelist.clear()\n",
    "        for y in range(len(parklist)):\n",
    "            if parklist[y].find(clist[x],x,x+1)== x:\n",
    "                activelist.append(parklist[y])\n",
    "            else:\n",
    "                pass\n",
    "\n",
    "        parklist=activelist.copy()\n",
    "        activelist.clear()\n",
    "\n",
    "#Remove words with letters in wrong position\n",
    "for x in range(len(plist)):\n",
    "    if plist[x]==\"0\":\n",
    "        pass\n",
    "    else:\n",
    "        activelist.clear()\n",
    "        for y in range(len(parklist)):\n",
    "            if parklist[y].find(plist[x],x,x+1)== x and parklist[y].find(plist[x])!= -1 :\n",
    "                pass\n",
    "            elif parklist[y].find(plist[x])!= -1:\n",
    "                activelist.append(parklist[y])\n",
    "                \n",
    "        parklist=activelist.copy()\n",
    "        activelist.clear()\n",
    "\n",
    "#To analyse optimal letters to rule out most words        \n",
    "for x in range(len(arr)):\n",
    " \n",
    "    for y in range(len(parklist)):\n",
    "        if re.search(rf\"{arr[x][0]}\", parklist[y]):\n",
    "            pass\n",
    "        else:\n",
    "            activelist.append(parklist[y])\n",
    "    arr[x][1] = len(parklist) - len(activelist)\n",
    "    activelist.clear()\n",
    "    \n",
    "print(parklist)\n",
    "print(arr)"
   ]
  }
 ],
 "metadata": {
  "kernelspec": {
   "display_name": "Python 3 (ipykernel)",
   "language": "python",
   "name": "python3"
  },
  "language_info": {
   "codemirror_mode": {
    "name": "ipython",
    "version": 3
   },
   "file_extension": ".py",
   "mimetype": "text/x-python",
   "name": "python",
   "nbconvert_exporter": "python",
   "pygments_lexer": "ipython3",
   "version": "3.9.7"
  }
 },
 "nbformat": 4,
 "nbformat_minor": 5
}
